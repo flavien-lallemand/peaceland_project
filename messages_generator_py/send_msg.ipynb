{
 "cells": [
  {
   "cell_type": "code",
   "execution_count": 18,
   "metadata": {},
   "outputs": [],
   "source": [
    "#pip install names"
   ]
  },
  {
   "cell_type": "code",
   "execution_count": 19,
   "metadata": {},
   "outputs": [],
   "source": [
    "#pip install PyYAML"
   ]
  },
  {
   "cell_type": "code",
   "execution_count": 20,
   "metadata": {},
   "outputs": [],
   "source": [
    "import pandas as pd\n",
    "import numpy as np\n",
    "import random\n",
    "import sys\n",
    "import math\n",
    "from datetime import datetime\n",
    "import names\n",
    "from random_word import RandomWords\n",
    "import json"
   ]
  },
  {
   "cell_type": "code",
   "execution_count": 21,
   "metadata": {},
   "outputs": [],
   "source": [
    "latitude = 19.99\n",
    "longitude = 73.78\n",
    "\n",
    "#fonction servant à générer une latitude aléatoire\n",
    "def generate_random_lat():    \n",
    "    latitude = math.acos(random.random() * 2 - 1)\n",
    "    return('%.6f' % (latitude))\n",
    "\n",
    "#fonction servant à générer une longitude aléatoire\n",
    "def generate_random_long():\n",
    "    longitude = random.random() * math.pi * 2\n",
    "    return('%.6f' % (longitude))\n",
    "\n"
   ]
  },
  {
   "cell_type": "code",
   "execution_count": 38,
   "metadata": {},
   "outputs": [
    {
     "name": "stdout",
     "output_type": "stream",
     "text": [
      "natural\n",
      "rather\n",
      "certain\n",
      "life\n",
      "base\n",
      "divide\n",
      "kind\n",
      "center\n",
      "east\n",
      "mix\n",
      "poor\n",
      "dear\n",
      "wife\n",
      "for\n",
      "summer\n",
      "wait\n",
      "case\n",
      "his\n",
      "science\n",
      "shore\n",
      "through\n",
      "other\n",
      "woman\n",
      "chord\n",
      "set\n",
      "crop\n",
      "populate\n",
      "lift\n",
      "describe\n",
      "too\n",
      "prove\n",
      "press\n",
      "compare\n",
      "pull\n",
      "buy\n",
      "seed\n",
      "six\n",
      "be\n",
      "began\n",
      "present\n",
      "enter\n",
      "help\n",
      "once\n",
      "type\n",
      "foot\n",
      "station\n",
      "enemy\n",
      "pay\n",
      "page\n",
      "dog\n"
     ]
    }
   ],
   "source": [
    "\n",
    "pw_id = []\n",
    "pw_long = []\n",
    "pw_lat = []\n",
    "citizensname = []\n",
    "citizensscore = []\n",
    "words = []\n",
    "date= []\n",
    "battery= []\n",
    "temperature= []\n",
    "\n",
    "#List of citizens with associated pScore as a Tuple\n",
    "citizens = []\n",
    "\n",
    "wordz_list = [line.strip() for line in open('common-words.txt')]\n",
    "\n",
    "#création des listes représantants les messages envoyés par les drones\n",
    "for i in range (0,500):\n",
    "    pw_id.append(random.randint(0, 50))\n",
    "    pw_long.append(generate_random_long())\n",
    "    pw_lat.append(generate_random_lat())\n",
    "\n",
    "    citizensTmp = []\n",
    "    for c in range(1, random.randint(1, 6)):\n",
    "        citizensTmp.append( {'name' : names.get_full_name(), 'peaceScore':int(random.random()*100)} )\n",
    "        \n",
    "    citizens.append(citizensTmp)\n",
    "\n",
    "    #citizensname.append(names.get_full_name())\n",
    "    #citizensscore.append(int(random.random()*100))\n",
    "    \n",
    "\n",
    "    words.append(random.choice(wordz_list))\n",
    "    date.append(datetime.now().strftime(\"%d/%m/%Y %H:%M:%S\"))\n",
    "    battery.append(int(random.random()*100))\n",
    "    temperature.append(int(random.random()*100))\n",
    "    print(words[-1])\n",
    "\n",
    "#print(pw_id,pw_long,pw_lat,citizensname,citizensscore,words,date,battery,temperature)\n"
   ]
  },
  {
   "cell_type": "code",
   "execution_count": 39,
   "metadata": {},
   "outputs": [
    {
     "name": "stdout",
     "output_type": "stream",
     "text": [
      "[{'pwId': 19, 'pwLong': '0.124291', 'pwLat': '1.575459', 'citizensAndScores': [{'name': 'Carol Hancock', 'peaceScore': 26}, {'name': 'Carl Falconer', 'peaceScore': 86}, {'name': 'Raymond Burgin', 'peaceScore': 32}, {'name': 'William Ashbaugh', 'peaceScore': 39}, {'name': 'Mark Cassell', 'peaceScore': 53}], 'words': 'natural', 'date': '05/04/2022 08:10:52', 'battery': 92, 'temperature': 92}, {'pwId': 4, 'pwLong': '4.816230', 'pwLat': '2.034248', 'citizensAndScores': [{'name': 'Teresa Santana', 'peaceScore': 0}, {'name': 'Judith Maisenbacher', 'peaceScore': 41}, {'name': 'Robert Sonnier', 'peaceScore': 76}], 'words': 'rather', 'date': '05/04/2022 08:10:52', 'battery': 86, 'temperature': 96}, {'pwId': 40, 'pwLong': '1.555844', 'pwLat': '1.906957', 'citizensAndScores': [{'name': 'Courtney Conrad', 'peaceScore': 3}], 'words': 'certain', 'date': '05/04/2022 08:10:52', 'battery': 22, 'temperature': 25}, {'pwId': 22, 'pwLong': '4.094475', 'pwLat': '1.941477', 'citizensAndScores': [{'name': 'Micheal Geesey', 'peaceScore': 63}], 'words': 'life', 'date': '05/04/2022 08:10:52', 'battery': 72, 'temperature': 62}, {'pwId': 38, 'pwLong': '2.820377', 'pwLat': '1.094806', 'citizensAndScores': [{'name': 'Shirley Black', 'peaceScore': 88}], 'words': 'base', 'date': '05/04/2022 08:10:52', 'battery': 39, 'temperature': 16}, {'pwId': 19, 'pwLong': '3.881846', 'pwLat': '1.616399', 'citizensAndScores': [{'name': 'Angel Glass', 'peaceScore': 62}, {'name': 'David Mendes', 'peaceScore': 18}, {'name': 'Ernestine Baker', 'peaceScore': 51}], 'words': 'divide', 'date': '05/04/2022 08:10:52', 'battery': 97, 'temperature': 85}, {'pwId': 16, 'pwLong': '1.980150', 'pwLat': '0.805481', 'citizensAndScores': [{'name': 'Jeannette Sanford', 'peaceScore': 58}, {'name': 'Jeremy Fuhrman', 'peaceScore': 88}], 'words': 'kind', 'date': '05/04/2022 08:10:52', 'battery': 58, 'temperature': 16}, {'pwId': 23, 'pwLong': '2.261606', 'pwLat': '1.962414', 'citizensAndScores': [{'name': 'Mark Howle', 'peaceScore': 32}, {'name': 'Merry Knobbe', 'peaceScore': 75}], 'words': 'center', 'date': '05/04/2022 08:10:52', 'battery': 7, 'temperature': 13}, {'pwId': 27, 'pwLong': '0.205871', 'pwLat': '1.383739', 'citizensAndScores': [{'name': 'Elsie Oconnor', 'peaceScore': 96}, {'name': 'Warren Williams', 'peaceScore': 8}], 'words': 'east', 'date': '05/04/2022 08:10:52', 'battery': 62, 'temperature': 34}, {'pwId': 20, 'pwLong': '2.726214', 'pwLat': '1.158520', 'citizensAndScores': [], 'words': 'mix', 'date': '05/04/2022 08:10:52', 'battery': 67, 'temperature': 80}, {'pwId': 44, 'pwLong': '2.046356', 'pwLat': '2.117514', 'citizensAndScores': [{'name': 'Marie Chaffin', 'peaceScore': 34}, {'name': 'Joseph Mcclinton', 'peaceScore': 31}, {'name': 'Rick Bachman', 'peaceScore': 44}, {'name': 'France Foreman', 'peaceScore': 97}], 'words': 'poor', 'date': '05/04/2022 08:10:52', 'battery': 29, 'temperature': 40}, {'pwId': 43, 'pwLong': '3.372984', 'pwLat': '1.618559', 'citizensAndScores': [{'name': 'Daniel Propps', 'peaceScore': 52}, {'name': 'Cynthia Mckinney', 'peaceScore': 9}, {'name': 'Gary Barden', 'peaceScore': 12}, {'name': 'Chasity Denham', 'peaceScore': 7}], 'words': 'dear', 'date': '05/04/2022 08:10:52', 'battery': 68, 'temperature': 72}, {'pwId': 20, 'pwLong': '2.577358', 'pwLat': '2.101155', 'citizensAndScores': [{'name': 'Virginia Garnica', 'peaceScore': 96}, {'name': 'Maria Holloway', 'peaceScore': 93}, {'name': 'Carolyn Justice', 'peaceScore': 88}], 'words': 'wife', 'date': '05/04/2022 08:10:52', 'battery': 36, 'temperature': 10}, {'pwId': 9, 'pwLong': '5.291378', 'pwLat': '0.232370', 'citizensAndScores': [{'name': 'Earl Hansen', 'peaceScore': 71}], 'words': 'for', 'date': '05/04/2022 08:10:52', 'battery': 72, 'temperature': 88}, {'pwId': 10, 'pwLong': '2.787916', 'pwLat': '0.728661', 'citizensAndScores': [{'name': 'Deanne Daniels', 'peaceScore': 98}, {'name': 'Joseph Lichty', 'peaceScore': 73}], 'words': 'summer', 'date': '05/04/2022 08:10:52', 'battery': 57, 'temperature': 57}, {'pwId': 13, 'pwLong': '5.581150', 'pwLat': '2.202959', 'citizensAndScores': [{'name': 'Danielle Camacho', 'peaceScore': 84}, {'name': 'Ernest Sandoval', 'peaceScore': 3}], 'words': 'wait', 'date': '05/04/2022 08:10:52', 'battery': 67, 'temperature': 11}, {'pwId': 6, 'pwLong': '1.987081', 'pwLat': '1.957477', 'citizensAndScores': [{'name': 'Kenneth Eiben', 'peaceScore': 59}, {'name': 'Leonard Merhar', 'peaceScore': 51}, {'name': 'Briana Evans', 'peaceScore': 99}], 'words': 'case', 'date': '05/04/2022 08:10:52', 'battery': 63, 'temperature': 16}, {'pwId': 7, 'pwLong': '3.514142', 'pwLat': '2.316128', 'citizensAndScores': [{'name': 'Charles Mobley', 'peaceScore': 66}, {'name': 'John Woods', 'peaceScore': 93}, {'name': 'Christopher Love', 'peaceScore': 57}], 'words': 'his', 'date': '05/04/2022 08:10:52', 'battery': 70, 'temperature': 58}, {'pwId': 6, 'pwLong': '2.866071', 'pwLat': '2.368303', 'citizensAndScores': [{'name': 'Stella Burns', 'peaceScore': 27}], 'words': 'science', 'date': '05/04/2022 08:10:52', 'battery': 18, 'temperature': 59}, {'pwId': 48, 'pwLong': '4.687618', 'pwLat': '1.489690', 'citizensAndScores': [{'name': 'David Lashley', 'peaceScore': 6}, {'name': 'Stacie Kee', 'peaceScore': 19}, {'name': 'Rick Valentine', 'peaceScore': 95}, {'name': 'Neta Spann', 'peaceScore': 52}], 'words': 'shore', 'date': '05/04/2022 08:10:52', 'battery': 37, 'temperature': 91}, {'pwId': 38, 'pwLong': '0.439441', 'pwLat': '1.543677', 'citizensAndScores': [], 'words': 'through', 'date': '05/04/2022 08:10:52', 'battery': 96, 'temperature': 40}, {'pwId': 34, 'pwLong': '1.304701', 'pwLat': '0.575146', 'citizensAndScores': [{'name': 'Stephanie Moore', 'peaceScore': 2}, {'name': 'Helen Kiefer', 'peaceScore': 52}, {'name': 'Bruce Martin', 'peaceScore': 41}, {'name': 'Kelly Daniels', 'peaceScore': 15}, {'name': 'Shawn Muniz', 'peaceScore': 10}], 'words': 'other', 'date': '05/04/2022 08:10:52', 'battery': 3, 'temperature': 10}, {'pwId': 20, 'pwLong': '2.603309', 'pwLat': '1.027895', 'citizensAndScores': [{'name': 'Todd Hwang', 'peaceScore': 24}], 'words': 'woman', 'date': '05/04/2022 08:10:52', 'battery': 10, 'temperature': 17}, {'pwId': 37, 'pwLong': '1.278063', 'pwLat': '2.255881', 'citizensAndScores': [{'name': 'Luis Mcbride', 'peaceScore': 49}, {'name': 'Gail Poindexter', 'peaceScore': 61}, {'name': 'George Whelan', 'peaceScore': 2}], 'words': 'chord', 'date': '05/04/2022 08:10:52', 'battery': 53, 'temperature': 91}, {'pwId': 27, 'pwLong': '2.536460', 'pwLat': '1.802948', 'citizensAndScores': [{'name': 'Francisco Carter', 'peaceScore': 54}, {'name': 'Janice Dyer', 'peaceScore': 20}], 'words': 'set', 'date': '05/04/2022 08:10:52', 'battery': 45, 'temperature': 67}, {'pwId': 37, 'pwLong': '4.400911', 'pwLat': '0.759597', 'citizensAndScores': [{'name': 'Mark Davis', 'peaceScore': 38}], 'words': 'crop', 'date': '05/04/2022 08:10:52', 'battery': 4, 'temperature': 28}, {'pwId': 46, 'pwLong': '3.329522', 'pwLat': '1.360728', 'citizensAndScores': [{'name': 'Steven Oconnell', 'peaceScore': 31}], 'words': 'populate', 'date': '05/04/2022 08:10:52', 'battery': 62, 'temperature': 83}, {'pwId': 28, 'pwLong': '1.015025', 'pwLat': '0.992211', 'citizensAndScores': [{'name': 'Catherine Johnson', 'peaceScore': 60}, {'name': 'Patrick Maymon', 'peaceScore': 20}, {'name': 'Jonathan Sankey', 'peaceScore': 34}, {'name': 'Lavada Ramsey', 'peaceScore': 43}, {'name': 'Valerie Paulin', 'peaceScore': 94}], 'words': 'lift', 'date': '05/04/2022 08:10:52', 'battery': 71, 'temperature': 17}, {'pwId': 1, 'pwLong': '2.259466', 'pwLat': '1.329543', 'citizensAndScores': [{'name': 'Nancy Currence', 'peaceScore': 46}], 'words': 'describe', 'date': '05/04/2022 08:10:52', 'battery': 0, 'temperature': 65}, {'pwId': 34, 'pwLong': '1.973644', 'pwLat': '2.235041', 'citizensAndScores': [], 'words': 'too', 'date': '05/04/2022 08:10:52', 'battery': 20, 'temperature': 21}, {'pwId': 30, 'pwLong': '2.350611', 'pwLat': '1.354054', 'citizensAndScores': [], 'words': 'prove', 'date': '05/04/2022 08:10:52', 'battery': 81, 'temperature': 76}, {'pwId': 12, 'pwLong': '3.842632', 'pwLat': '0.660724', 'citizensAndScores': [{'name': 'James Pearson', 'peaceScore': 83}, {'name': 'Barbara Phifer', 'peaceScore': 18}, {'name': 'John Looney', 'peaceScore': 92}, {'name': 'Lauralee Beckers', 'peaceScore': 23}, {'name': 'Monte Nicklas', 'peaceScore': 39}], 'words': 'press', 'date': '05/04/2022 08:10:52', 'battery': 79, 'temperature': 42}, {'pwId': 24, 'pwLong': '3.609706', 'pwLat': '2.312423', 'citizensAndScores': [{'name': 'David Carraway', 'peaceScore': 23}, {'name': 'Dawn Bell', 'peaceScore': 17}, {'name': 'John Bonson', 'peaceScore': 71}, {'name': 'Daniel Gonzalez', 'peaceScore': 5}], 'words': 'compare', 'date': '05/04/2022 08:10:52', 'battery': 15, 'temperature': 72}, {'pwId': 33, 'pwLong': '0.558401', 'pwLat': '1.455079', 'citizensAndScores': [{'name': 'Gerald Satchell', 'peaceScore': 90}, {'name': 'Karen Weller', 'peaceScore': 49}], 'words': 'pull', 'date': '05/04/2022 08:10:52', 'battery': 34, 'temperature': 32}, {'pwId': 6, 'pwLong': '3.581256', 'pwLat': '2.530457', 'citizensAndScores': [{'name': 'Paul Nguyen', 'peaceScore': 49}], 'words': 'buy', 'date': '05/04/2022 08:10:52', 'battery': 16, 'temperature': 19}, {'pwId': 19, 'pwLong': '0.087358', 'pwLat': '1.407210', 'citizensAndScores': [{'name': 'Tamara Garcia', 'peaceScore': 58}], 'words': 'seed', 'date': '05/04/2022 08:10:52', 'battery': 79, 'temperature': 58}, {'pwId': 4, 'pwLong': '2.270752', 'pwLat': '2.923125', 'citizensAndScores': [{'name': 'Rose Mason', 'peaceScore': 70}, {'name': 'Dona Martin', 'peaceScore': 12}, {'name': 'Jennifer Hosmer', 'peaceScore': 76}, {'name': 'Edward Fraise', 'peaceScore': 61}], 'words': 'six', 'date': '05/04/2022 08:10:52', 'battery': 56, 'temperature': 41}, {'pwId': 26, 'pwLong': '5.465114', 'pwLat': '1.245048', 'citizensAndScores': [], 'words': 'be', 'date': '05/04/2022 08:10:52', 'battery': 69, 'temperature': 50}, {'pwId': 35, 'pwLong': '4.246420', 'pwLat': '0.924685', 'citizensAndScores': [{'name': 'Donna Catlin', 'peaceScore': 5}, {'name': 'Jane Smith', 'peaceScore': 94}, {'name': 'Milton Luedeman', 'peaceScore': 14}, {'name': 'Sally Alvarado', 'peaceScore': 41}], 'words': 'began', 'date': '05/04/2022 08:10:52', 'battery': 63, 'temperature': 75}, {'pwId': 40, 'pwLong': '4.623493', 'pwLat': '2.738724', 'citizensAndScores': [{'name': 'Tameka Luthy', 'peaceScore': 49}, {'name': 'Inga Brown', 'peaceScore': 65}, {'name': 'Willie Williams', 'peaceScore': 71}, {'name': 'Michael Johnson', 'peaceScore': 47}, {'name': 'Richard Stanford', 'peaceScore': 56}], 'words': 'present', 'date': '05/04/2022 08:10:52', 'battery': 14, 'temperature': 85}, {'pwId': 37, 'pwLong': '2.432810', 'pwLat': '1.496373', 'citizensAndScores': [{'name': 'Lisa Lynch', 'peaceScore': 3}, {'name': 'Antonietta Lewis', 'peaceScore': 80}, {'name': 'Alicia Arujo', 'peaceScore': 46}, {'name': 'Teresa Menefee', 'peaceScore': 93}, {'name': 'Faye Corso', 'peaceScore': 31}], 'words': 'enter', 'date': '05/04/2022 08:10:53', 'battery': 76, 'temperature': 79}, {'pwId': 47, 'pwLong': '3.685959', 'pwLat': '1.642835', 'citizensAndScores': [{'name': 'Suzanne Park', 'peaceScore': 56}, {'name': 'Rosa Craft', 'peaceScore': 0}, {'name': 'Jean Lazarus', 'peaceScore': 97}], 'words': 'help', 'date': '05/04/2022 08:10:53', 'battery': 38, 'temperature': 46}, {'pwId': 38, 'pwLong': '3.460585', 'pwLat': '2.123183', 'citizensAndScores': [{'name': 'Travis Hernandez', 'peaceScore': 63}, {'name': 'David Peres', 'peaceScore': 15}, {'name': 'Bennie Yeager', 'peaceScore': 90}], 'words': 'once', 'date': '05/04/2022 08:10:53', 'battery': 80, 'temperature': 12}, {'pwId': 45, 'pwLong': '5.838493', 'pwLat': '1.412952', 'citizensAndScores': [{'name': 'Martha Kiehne', 'peaceScore': 82}, {'name': 'Dorothy Mccoin', 'peaceScore': 19}, {'name': 'Megan Totten', 'peaceScore': 27}, {'name': 'Daryl Mount', 'peaceScore': 13}], 'words': 'type', 'date': '05/04/2022 08:10:53', 'battery': 22, 'temperature': 64}, {'pwId': 42, 'pwLong': '2.164983', 'pwLat': '0.658221', 'citizensAndScores': [{'name': 'Agnes Terry', 'peaceScore': 53}, {'name': 'Scott Mcmahon', 'peaceScore': 20}, {'name': 'Henry Macdonald', 'peaceScore': 78}, {'name': 'Loren Varnado', 'peaceScore': 84}, {'name': 'Luisa Sanchez', 'peaceScore': 70}], 'words': 'foot', 'date': '05/04/2022 08:10:53', 'battery': 65, 'temperature': 85}, {'pwId': 47, 'pwLong': '5.625607', 'pwLat': '1.247058', 'citizensAndScores': [{'name': 'Irvin Lewis', 'peaceScore': 98}, {'name': 'Dennis Webber', 'peaceScore': 55}, {'name': 'Brian Hobbs', 'peaceScore': 29}, {'name': 'Monica Clark', 'peaceScore': 53}, {'name': 'Eddie Caudill', 'peaceScore': 63}], 'words': 'station', 'date': '05/04/2022 08:10:53', 'battery': 21, 'temperature': 18}, {'pwId': 10, 'pwLong': '0.793306', 'pwLat': '1.933030', 'citizensAndScores': [{'name': 'Maria Robinson', 'peaceScore': 64}, {'name': 'Mildred Rains', 'peaceScore': 67}], 'words': 'enemy', 'date': '05/04/2022 08:10:53', 'battery': 69, 'temperature': 68}, {'pwId': 26, 'pwLong': '6.113937', 'pwLat': '1.808462', 'citizensAndScores': [{'name': 'Laura Leif', 'peaceScore': 43}, {'name': 'Vernon Hilliard', 'peaceScore': 18}, {'name': 'Ruth Cordero', 'peaceScore': 99}, {'name': 'Kenneth Jones', 'peaceScore': 44}, {'name': 'Jennifer Wark', 'peaceScore': 41}], 'words': 'pay', 'date': '05/04/2022 08:10:53', 'battery': 59, 'temperature': 10}, {'pwId': 35, 'pwLong': '4.989641', 'pwLat': '0.947208', 'citizensAndScores': [{'name': 'George Maldonado', 'peaceScore': 38}, {'name': 'Newton Duponte', 'peaceScore': 68}, {'name': 'Myra Edwards', 'peaceScore': 26}, {'name': 'Stanley Tucker', 'peaceScore': 74}, {'name': 'James Boyer', 'peaceScore': 67}], 'words': 'page', 'date': '05/04/2022 08:10:53', 'battery': 87, 'temperature': 44}, {'pwId': 48, 'pwLong': '2.162083', 'pwLat': '1.873689', 'citizensAndScores': [], 'words': 'dog', 'date': '05/04/2022 08:10:53', 'battery': 98, 'temperature': 68}]\n"
     ]
    }
   ],
   "source": [
    "#création du dataframe\n",
    "out = pd.DataFrame({'pwId': pw_id ,\n",
    "                    'pwLong': pw_long ,\n",
    "                    'pwLat' : pw_lat , \n",
    "                    'citizensAndScores' : citizens,\n",
    "                    'words': words,\n",
    "                    'date' : date, \n",
    "                    'battery': battery ,\n",
    "                    'temperature' : temperature }) \n",
    "#out.to_csv('msg.csv',index=False)\n",
    "json_out = out.to_json(orient=\"records\")\n",
    "\n",
    "parsed = json.loads(json_out)\n",
    "\n",
    "with open('data_sample.json', 'w') as f:\n",
    "    json.dump(parsed, f)\n",
    "\n",
    "print(parsed)\n"
   ]
  }
 ],
 "metadata": {
  "interpreter": {
   "hash": "829bd39eff4f063167e1871546e49c92757733ad7a4212e31441a4e4fcd39b64"
  },
  "kernelspec": {
   "display_name": "Python 3.9.1 64-bit ('base': conda)",
   "name": "python3"
  },
  "language_info": {
   "codemirror_mode": {
    "name": "ipython",
    "version": 3
   },
   "file_extension": ".py",
   "mimetype": "text/x-python",
   "name": "python",
   "nbconvert_exporter": "python",
   "pygments_lexer": "ipython3",
   "version": "3.9.1"
  },
  "orig_nbformat": 4
 },
 "nbformat": 4,
 "nbformat_minor": 2
}
